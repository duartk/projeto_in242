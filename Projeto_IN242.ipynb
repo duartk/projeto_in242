{
 "cells": [
  {
   "cell_type": "code",
   "execution_count": 2,
   "metadata": {},
   "outputs": [],
   "source": [
    "import pandas as pd"
   ]
  },
  {
   "cell_type": "code",
   "execution_count": 3,
   "metadata": {},
   "outputs": [],
   "source": [
    "import numpy as np"
   ]
  },
  {
   "cell_type": "code",
   "execution_count": 4,
   "metadata": {},
   "outputs": [],
   "source": [
    "import datetime"
   ]
  },
  {
   "cell_type": "code",
   "execution_count": 5,
   "metadata": {},
   "outputs": [],
   "source": [
    "from pymongo import MongoClient"
   ]
  },
  {
   "cell_type": "code",
   "execution_count": 96,
   "metadata": {},
   "outputs": [],
   "source": [
    "import matplotlib.pyplot as plt"
   ]
  },
  {
   "cell_type": "code",
   "execution_count": 91,
   "metadata": {},
   "outputs": [],
   "source": [
    "import seaborn as sns"
   ]
  },
  {
   "cell_type": "code",
   "execution_count": 46,
   "metadata": {},
   "outputs": [],
   "source": [
    "%matplotlib inline"
   ]
  },
  {
   "cell_type": "code",
   "execution_count": 6,
   "metadata": {},
   "outputs": [],
   "source": [
    "mongo_client = MongoClient('18.228.159.69', 27017)\n",
    "mongo_db = mongo_client['projeto_in242']\n",
    "mongo_collection = mongo_db['in242']"
   ]
  },
  {
   "cell_type": "code",
   "execution_count": 7,
   "metadata": {},
   "outputs": [],
   "source": [
    "dados = list(mongo_collection.find())\n",
    "df = pd.DataFrame(dados)"
   ]
  },
  {
   "cell_type": "code",
   "execution_count": 8,
   "metadata": {},
   "outputs": [
    {
     "data": {
      "text/html": [
       "<div>\n",
       "<style scoped>\n",
       "    .dataframe tbody tr th:only-of-type {\n",
       "        vertical-align: middle;\n",
       "    }\n",
       "\n",
       "    .dataframe tbody tr th {\n",
       "        vertical-align: top;\n",
       "    }\n",
       "\n",
       "    .dataframe thead th {\n",
       "        text-align: right;\n",
       "    }\n",
       "</style>\n",
       "<table border=\"1\" class=\"dataframe\">\n",
       "  <thead>\n",
       "    <tr style=\"text-align: right;\">\n",
       "      <th></th>\n",
       "      <th>_id</th>\n",
       "      <th>temperatura</th>\n",
       "      <th>data_coleta</th>\n",
       "      <th>data</th>\n",
       "    </tr>\n",
       "  </thead>\n",
       "  <tbody>\n",
       "    <tr>\n",
       "      <th>0</th>\n",
       "      <td>5db096ce8fb6f06a1273e1b9</td>\n",
       "      <td>23.911358</td>\n",
       "      <td>2019-10-23 15:07:10.226</td>\n",
       "      <td>NaN</td>\n",
       "    </tr>\n",
       "    <tr>\n",
       "      <th>1</th>\n",
       "      <td>5db096cf8fb6f06a1273e1ba</td>\n",
       "      <td>24.103100</td>\n",
       "      <td>2019-10-23 15:07:11.227</td>\n",
       "      <td>NaN</td>\n",
       "    </tr>\n",
       "    <tr>\n",
       "      <th>2</th>\n",
       "      <td>5db096d08fb6f06a1273e1bb</td>\n",
       "      <td>23.023379</td>\n",
       "      <td>2019-10-23 15:07:12.228</td>\n",
       "      <td>NaN</td>\n",
       "    </tr>\n",
       "    <tr>\n",
       "      <th>3</th>\n",
       "      <td>5db096d18fb6f06a1273e1bc</td>\n",
       "      <td>29.949198</td>\n",
       "      <td>2019-10-23 15:07:13.230</td>\n",
       "      <td>NaN</td>\n",
       "    </tr>\n",
       "    <tr>\n",
       "      <th>4</th>\n",
       "      <td>5db096d28fb6f06a1273e1bd</td>\n",
       "      <td>27.933929</td>\n",
       "      <td>2019-10-23 15:07:14.229</td>\n",
       "      <td>NaN</td>\n",
       "    </tr>\n",
       "  </tbody>\n",
       "</table>\n",
       "</div>"
      ],
      "text/plain": [
       "                        _id  temperatura             data_coleta data\n",
       "0  5db096ce8fb6f06a1273e1b9    23.911358 2019-10-23 15:07:10.226  NaN\n",
       "1  5db096cf8fb6f06a1273e1ba    24.103100 2019-10-23 15:07:11.227  NaN\n",
       "2  5db096d08fb6f06a1273e1bb    23.023379 2019-10-23 15:07:12.228  NaN\n",
       "3  5db096d18fb6f06a1273e1bc    29.949198 2019-10-23 15:07:13.230  NaN\n",
       "4  5db096d28fb6f06a1273e1bd    27.933929 2019-10-23 15:07:14.229  NaN"
      ]
     },
     "execution_count": 8,
     "metadata": {},
     "output_type": "execute_result"
    }
   ],
   "source": [
    "df.head()"
   ]
  },
  {
   "cell_type": "code",
   "execution_count": 9,
   "metadata": {},
   "outputs": [
    {
     "data": {
      "text/plain": [
       "(48243, 4)"
      ]
     },
     "execution_count": 9,
     "metadata": {},
     "output_type": "execute_result"
    }
   ],
   "source": [
    "df.shape"
   ]
  },
  {
   "cell_type": "code",
   "execution_count": 10,
   "metadata": {},
   "outputs": [
    {
     "name": "stdout",
     "output_type": "stream",
     "text": [
      "<class 'pandas.core.frame.DataFrame'>\n",
      "RangeIndex: 48243 entries, 0 to 48242\n",
      "Data columns (total 4 columns):\n",
      "_id            48243 non-null object\n",
      "temperatura    48243 non-null float64\n",
      "data_coleta    48243 non-null datetime64[ns]\n",
      "data           41881 non-null object\n",
      "dtypes: datetime64[ns](1), float64(1), object(2)\n",
      "memory usage: 1.5+ MB\n"
     ]
    }
   ],
   "source": [
    "df.info()"
   ]
  },
  {
   "cell_type": "code",
   "execution_count": 11,
   "metadata": {},
   "outputs": [
    {
     "data": {
      "text/plain": [
       "_id            48243\n",
       "temperatura    48243\n",
       "data_coleta    48243\n",
       "data           41881\n",
       "dtype: int64"
      ]
     },
     "execution_count": 11,
     "metadata": {},
     "output_type": "execute_result"
    }
   ],
   "source": [
    "df.count()"
   ]
  },
  {
   "cell_type": "code",
   "execution_count": 298,
   "metadata": {},
   "outputs": [],
   "source": [
    "df.to_csv('Projeto_IN242.csv')"
   ]
  },
  {
   "cell_type": "code",
   "execution_count": null,
   "metadata": {},
   "outputs": [],
   "source": [
    "#organizando as informações"
   ]
  },
  {
   "cell_type": "code",
   "execution_count": 12,
   "metadata": {},
   "outputs": [],
   "source": [
    "df.drop(['_id', 'data'], axis=1, inplace=True)"
   ]
  },
  {
   "cell_type": "code",
   "execution_count": 14,
   "metadata": {},
   "outputs": [],
   "source": [
    "df = df[['data_coleta', 'temperatura']]"
   ]
  },
  {
   "cell_type": "code",
   "execution_count": 15,
   "metadata": {},
   "outputs": [
    {
     "data": {
      "text/html": [
       "<div>\n",
       "<style scoped>\n",
       "    .dataframe tbody tr th:only-of-type {\n",
       "        vertical-align: middle;\n",
       "    }\n",
       "\n",
       "    .dataframe tbody tr th {\n",
       "        vertical-align: top;\n",
       "    }\n",
       "\n",
       "    .dataframe thead th {\n",
       "        text-align: right;\n",
       "    }\n",
       "</style>\n",
       "<table border=\"1\" class=\"dataframe\">\n",
       "  <thead>\n",
       "    <tr style=\"text-align: right;\">\n",
       "      <th></th>\n",
       "      <th>data_coleta</th>\n",
       "      <th>temperatura</th>\n",
       "    </tr>\n",
       "  </thead>\n",
       "  <tbody>\n",
       "    <tr>\n",
       "      <th>0</th>\n",
       "      <td>2019-10-23 15:07:10.226</td>\n",
       "      <td>23.911358</td>\n",
       "    </tr>\n",
       "    <tr>\n",
       "      <th>1</th>\n",
       "      <td>2019-10-23 15:07:11.227</td>\n",
       "      <td>24.103100</td>\n",
       "    </tr>\n",
       "    <tr>\n",
       "      <th>2</th>\n",
       "      <td>2019-10-23 15:07:12.228</td>\n",
       "      <td>23.023379</td>\n",
       "    </tr>\n",
       "    <tr>\n",
       "      <th>3</th>\n",
       "      <td>2019-10-23 15:07:13.230</td>\n",
       "      <td>29.949198</td>\n",
       "    </tr>\n",
       "    <tr>\n",
       "      <th>4</th>\n",
       "      <td>2019-10-23 15:07:14.229</td>\n",
       "      <td>27.933929</td>\n",
       "    </tr>\n",
       "  </tbody>\n",
       "</table>\n",
       "</div>"
      ],
      "text/plain": [
       "              data_coleta  temperatura\n",
       "0 2019-10-23 15:07:10.226    23.911358\n",
       "1 2019-10-23 15:07:11.227    24.103100\n",
       "2 2019-10-23 15:07:12.228    23.023379\n",
       "3 2019-10-23 15:07:13.230    29.949198\n",
       "4 2019-10-23 15:07:14.229    27.933929"
      ]
     },
     "execution_count": 15,
     "metadata": {},
     "output_type": "execute_result"
    }
   ],
   "source": [
    "df.head()"
   ]
  },
  {
   "cell_type": "code",
   "execution_count": 23,
   "metadata": {},
   "outputs": [
    {
     "data": {
      "text/plain": [
       "min     15.001066\n",
       "max     29.999754\n",
       "mean    22.525637\n",
       "Name: temperatura, dtype: float64"
      ]
     },
     "execution_count": 23,
     "metadata": {},
     "output_type": "execute_result"
    }
   ],
   "source": [
    "df['temperatura'].agg(['min', 'max', 'mean'])"
   ]
  },
  {
   "cell_type": "code",
   "execution_count": 24,
   "metadata": {},
   "outputs": [],
   "source": [
    "#analise alarme de temperatura"
   ]
  },
  {
   "cell_type": "code",
   "execution_count": 25,
   "metadata": {},
   "outputs": [],
   "source": [
    "def analise_temperatura(temperatura):\n",
    "    if 20 < temperatura <= 25:\n",
    "        return False\n",
    "    else:\n",
    "        return True\n",
    "        "
   ]
  },
  {
   "cell_type": "code",
   "execution_count": 27,
   "metadata": {},
   "outputs": [
    {
     "name": "stderr",
     "output_type": "stream",
     "text": [
      "/home/aluno/projeto_in242/env/lib/python3.7/site-packages/ipykernel_launcher.py:1: SettingWithCopyWarning: \n",
      "A value is trying to be set on a copy of a slice from a DataFrame.\n",
      "Try using .loc[row_indexer,col_indexer] = value instead\n",
      "\n",
      "See the caveats in the documentation: http://pandas.pydata.org/pandas-docs/stable/user_guide/indexing.html#returning-a-view-versus-a-copy\n",
      "  \"\"\"Entry point for launching an IPython kernel.\n"
     ]
    }
   ],
   "source": [
    "df['alarm'] = df['temperatura'].apply(analise_temperatura)"
   ]
  },
  {
   "cell_type": "code",
   "execution_count": 28,
   "metadata": {},
   "outputs": [
    {
     "data": {
      "text/html": [
       "<div>\n",
       "<style scoped>\n",
       "    .dataframe tbody tr th:only-of-type {\n",
       "        vertical-align: middle;\n",
       "    }\n",
       "\n",
       "    .dataframe tbody tr th {\n",
       "        vertical-align: top;\n",
       "    }\n",
       "\n",
       "    .dataframe thead th {\n",
       "        text-align: right;\n",
       "    }\n",
       "</style>\n",
       "<table border=\"1\" class=\"dataframe\">\n",
       "  <thead>\n",
       "    <tr style=\"text-align: right;\">\n",
       "      <th></th>\n",
       "      <th>data_coleta</th>\n",
       "      <th>temperatura</th>\n",
       "      <th>alarm</th>\n",
       "    </tr>\n",
       "  </thead>\n",
       "  <tbody>\n",
       "    <tr>\n",
       "      <th>0</th>\n",
       "      <td>2019-10-23 15:07:10.226</td>\n",
       "      <td>23.911358</td>\n",
       "      <td>False</td>\n",
       "    </tr>\n",
       "    <tr>\n",
       "      <th>1</th>\n",
       "      <td>2019-10-23 15:07:11.227</td>\n",
       "      <td>24.103100</td>\n",
       "      <td>False</td>\n",
       "    </tr>\n",
       "    <tr>\n",
       "      <th>2</th>\n",
       "      <td>2019-10-23 15:07:12.228</td>\n",
       "      <td>23.023379</td>\n",
       "      <td>False</td>\n",
       "    </tr>\n",
       "    <tr>\n",
       "      <th>3</th>\n",
       "      <td>2019-10-23 15:07:13.230</td>\n",
       "      <td>29.949198</td>\n",
       "      <td>True</td>\n",
       "    </tr>\n",
       "    <tr>\n",
       "      <th>4</th>\n",
       "      <td>2019-10-23 15:07:14.229</td>\n",
       "      <td>27.933929</td>\n",
       "      <td>True</td>\n",
       "    </tr>\n",
       "  </tbody>\n",
       "</table>\n",
       "</div>"
      ],
      "text/plain": [
       "              data_coleta  temperatura  alarm\n",
       "0 2019-10-23 15:07:10.226    23.911358  False\n",
       "1 2019-10-23 15:07:11.227    24.103100  False\n",
       "2 2019-10-23 15:07:12.228    23.023379  False\n",
       "3 2019-10-23 15:07:13.230    29.949198   True\n",
       "4 2019-10-23 15:07:14.229    27.933929   True"
      ]
     },
     "execution_count": 28,
     "metadata": {},
     "output_type": "execute_result"
    }
   ],
   "source": [
    "df.head()"
   ]
  },
  {
   "cell_type": "code",
   "execution_count": 32,
   "metadata": {},
   "outputs": [
    {
     "data": {
      "text/plain": [
       "True     32028\n",
       "False    16215\n",
       "Name: alarm, dtype: int64"
      ]
     },
     "execution_count": 32,
     "metadata": {},
     "output_type": "execute_result"
    }
   ],
   "source": [
    "df['alarm'].value_counts()"
   ]
  },
  {
   "cell_type": "code",
   "execution_count": 33,
   "metadata": {},
   "outputs": [],
   "source": [
    "df_day = df.set_index('data_coleta').groupby(pd.Grouper(freq='D')).mean()"
   ]
  },
  {
   "cell_type": "code",
   "execution_count": 42,
   "metadata": {},
   "outputs": [
    {
     "data": {
      "text/html": [
       "<div>\n",
       "<style scoped>\n",
       "    .dataframe tbody tr th:only-of-type {\n",
       "        vertical-align: middle;\n",
       "    }\n",
       "\n",
       "    .dataframe tbody tr th {\n",
       "        vertical-align: top;\n",
       "    }\n",
       "\n",
       "    .dataframe thead th {\n",
       "        text-align: right;\n",
       "    }\n",
       "</style>\n",
       "<table border=\"1\" class=\"dataframe\">\n",
       "  <thead>\n",
       "    <tr style=\"text-align: right;\">\n",
       "      <th></th>\n",
       "      <th>temperatura</th>\n",
       "      <th>alarm</th>\n",
       "    </tr>\n",
       "    <tr>\n",
       "      <th>data_coleta</th>\n",
       "      <th></th>\n",
       "      <th></th>\n",
       "    </tr>\n",
       "  </thead>\n",
       "  <tbody>\n",
       "    <tr>\n",
       "      <th>2019-10-23</th>\n",
       "      <td>22.447605</td>\n",
       "      <td>0.672744</td>\n",
       "    </tr>\n",
       "    <tr>\n",
       "      <th>2019-10-24</th>\n",
       "      <td>NaN</td>\n",
       "      <td>NaN</td>\n",
       "    </tr>\n",
       "    <tr>\n",
       "      <th>2019-10-25</th>\n",
       "      <td>NaN</td>\n",
       "      <td>NaN</td>\n",
       "    </tr>\n",
       "    <tr>\n",
       "      <th>2019-10-26</th>\n",
       "      <td>NaN</td>\n",
       "      <td>NaN</td>\n",
       "    </tr>\n",
       "    <tr>\n",
       "      <th>2019-10-27</th>\n",
       "      <td>NaN</td>\n",
       "      <td>NaN</td>\n",
       "    </tr>\n",
       "    <tr>\n",
       "      <th>2019-10-28</th>\n",
       "      <td>22.562178</td>\n",
       "      <td>0.663585</td>\n",
       "    </tr>\n",
       "    <tr>\n",
       "      <th>2019-10-29</th>\n",
       "      <td>22.528065</td>\n",
       "      <td>0.662147</td>\n",
       "    </tr>\n",
       "  </tbody>\n",
       "</table>\n",
       "</div>"
      ],
      "text/plain": [
       "             temperatura     alarm\n",
       "data_coleta                       \n",
       "2019-10-23     22.447605  0.672744\n",
       "2019-10-24           NaN       NaN\n",
       "2019-10-25           NaN       NaN\n",
       "2019-10-26           NaN       NaN\n",
       "2019-10-27           NaN       NaN\n",
       "2019-10-28     22.562178  0.663585\n",
       "2019-10-29     22.528065  0.662147"
      ]
     },
     "execution_count": 42,
     "metadata": {},
     "output_type": "execute_result"
    }
   ],
   "source": [
    "df_day"
   ]
  },
  {
   "cell_type": "code",
   "execution_count": 49,
   "metadata": {},
   "outputs": [
    {
     "data": {
      "text/plain": [
       "<matplotlib.axes._subplots.AxesSubplot at 0x7fce896f88d0>"
      ]
     },
     "execution_count": 49,
     "metadata": {},
     "output_type": "execute_result"
    },
    {
     "data": {
      "image/png": "[encoded data removed]",
      "text/plain": [
       "<Figure size 432x288 with 1 Axes>"
      ]
     },
     "metadata": {
      "needs_background": "light"
     },
     "output_type": "display_data"
    }
   ],
   "source": [
    "#Media de temperatura diaria\n",
    "df_day['temperatura'].plot.bar()"
   ]
  },
  {
   "cell_type": "code",
   "execution_count": 50,
   "metadata": {},
   "outputs": [],
   "source": [
    "#Analise dos dados - dia 29/10"
   ]
  },
  {
   "cell_type": "code",
   "execution_count": 154,
   "metadata": {},
   "outputs": [],
   "source": [
    "df_20191029 = df[(df['data_coleta'] > '2019-10-29 00:00:00') & (df['data_coleta'] < '2019-10-30 00:00:00')]"
   ]
  },
  {
   "cell_type": "code",
   "execution_count": 155,
   "metadata": {},
   "outputs": [
    {
     "name": "stdout",
     "output_type": "stream",
     "text": [
      "<class 'pandas.core.frame.DataFrame'>\n",
      "Int64Index: 30309 entries, 17934 to 48242\n",
      "Data columns (total 3 columns):\n",
      "data_coleta    30309 non-null datetime64[ns]\n",
      "temperatura    30309 non-null float64\n",
      "alarm          30309 non-null bool\n",
      "dtypes: bool(1), datetime64[ns](1), float64(1)\n",
      "memory usage: 740.0 KB\n"
     ]
    }
   ],
   "source": [
    "df_20191029.info()"
   ]
  },
  {
   "cell_type": "code",
   "execution_count": 157,
   "metadata": {},
   "outputs": [
    {
     "data": {
      "text/plain": [
       "min     15.001227\n",
       "max     29.999754\n",
       "mean    22.528065\n",
       "Name: temperatura, dtype: float64"
      ]
     },
     "execution_count": 157,
     "metadata": {},
     "output_type": "execute_result"
    }
   ],
   "source": [
    "# menor e maior valor e media de temperatura no dia 29/10\n",
    "df_20191029['temperatura'].agg(['min', 'max', 'mean'])"
   ]
  },
  {
   "cell_type": "code",
   "execution_count": 160,
   "metadata": {},
   "outputs": [
    {
     "data": {
      "text/plain": [
       "count    30309.000000\n",
       "mean        22.528065\n",
       "std          4.321400\n",
       "min         15.001227\n",
       "25%         18.819307\n",
       "50%         22.562302\n",
       "75%         26.270853\n",
       "max         29.999754\n",
       "Name: temperatura, dtype: float64"
      ]
     },
     "execution_count": 160,
     "metadata": {},
     "output_type": "execute_result"
    }
   ],
   "source": [
    "df_20191029['temperatura'].describe()"
   ]
  },
  {
   "cell_type": "code",
   "execution_count": 161,
   "metadata": {},
   "outputs": [
    {
     "data": {
      "text/html": [
       "<div>\n",
       "<style scoped>\n",
       "    .dataframe tbody tr th:only-of-type {\n",
       "        vertical-align: middle;\n",
       "    }\n",
       "\n",
       "    .dataframe tbody tr th {\n",
       "        vertical-align: top;\n",
       "    }\n",
       "\n",
       "    .dataframe thead th {\n",
       "        text-align: right;\n",
       "    }\n",
       "</style>\n",
       "<table border=\"1\" class=\"dataframe\">\n",
       "  <thead>\n",
       "    <tr style=\"text-align: right;\">\n",
       "      <th></th>\n",
       "      <th>data_coleta</th>\n",
       "      <th>temperatura</th>\n",
       "    </tr>\n",
       "    <tr>\n",
       "      <th>alarm</th>\n",
       "      <th></th>\n",
       "      <th></th>\n",
       "    </tr>\n",
       "  </thead>\n",
       "  <tbody>\n",
       "    <tr>\n",
       "      <th>False</th>\n",
       "      <td>10240</td>\n",
       "      <td>10240</td>\n",
       "    </tr>\n",
       "    <tr>\n",
       "      <th>True</th>\n",
       "      <td>20069</td>\n",
       "      <td>20069</td>\n",
       "    </tr>\n",
       "  </tbody>\n",
       "</table>\n",
       "</div>"
      ],
      "text/plain": [
       "       data_coleta  temperatura\n",
       "alarm                          \n",
       "False        10240        10240\n",
       "True         20069        20069"
      ]
     },
     "execution_count": 161,
     "metadata": {},
     "output_type": "execute_result"
    }
   ],
   "source": [
    "#contagem de alarmes no dia 29/10\n",
    "df_20191029.groupby(['alarm']).count()"
   ]
  },
  {
   "cell_type": "code",
   "execution_count": 162,
   "metadata": {},
   "outputs": [
    {
     "data": {
      "text/plain": [
       "<matplotlib.axes._subplots.AxesSubplot at 0x7fce64d3fb10>"
      ]
     },
     "execution_count": 162,
     "metadata": {},
     "output_type": "execute_result"
    },
    {
     "data": {
      "image/png": "[encoded data removed]",
      "text/plain": [
       "<Figure size 432x288 with 1 Axes>"
      ]
     },
     "metadata": {
      "needs_background": "light"
     },
     "output_type": "display_data"
    }
   ],
   "source": [
    "sns.countplot(x='alarm', data=df_20191029)"
   ]
  },
  {
   "cell_type": "code",
   "execution_count": 163,
   "metadata": {},
   "outputs": [
    {
     "data": {
      "text/plain": [
       "<matplotlib.axes._subplots.AxesSubplot at 0x7fce64d19890>"
      ]
     },
     "execution_count": 163,
     "metadata": {},
     "output_type": "execute_result"
    },
    {
     "data": {
      "image/png": "[encoded data removed]",
      "text/plain": [
       "<Figure size 432x288 with 1 Axes>"
      ]
     },
     "metadata": {
      "needs_background": "light"
     },
     "output_type": "display_data"
    }
   ],
   "source": [
    "#Distribuição dos valores de temperatura no dia 29/10\n",
    "sns.distplot(df_20191029['temperatura'])"
   ]
  },
  {
   "cell_type": "code",
   "execution_count": 164,
   "metadata": {},
   "outputs": [],
   "source": [
    "#Media de temperatura por hora no dia 29/10\n",
    "df_20191029_hora = df_20191028.set_index('data_coleta').groupby(pd.Grouper(freq='H')).mean()"
   ]
  },
  {
   "cell_type": "code",
   "execution_count": 165,
   "metadata": {},
   "outputs": [
    {
     "data": {
      "text/html": [
       "<div>\n",
       "<style scoped>\n",
       "    .dataframe tbody tr th:only-of-type {\n",
       "        vertical-align: middle;\n",
       "    }\n",
       "\n",
       "    .dataframe tbody tr th {\n",
       "        vertical-align: top;\n",
       "    }\n",
       "\n",
       "    .dataframe thead th {\n",
       "        text-align: right;\n",
       "    }\n",
       "</style>\n",
       "<table border=\"1\" class=\"dataframe\">\n",
       "  <thead>\n",
       "    <tr style=\"text-align: right;\">\n",
       "      <th></th>\n",
       "      <th>temperatura</th>\n",
       "      <th>alarm</th>\n",
       "    </tr>\n",
       "    <tr>\n",
       "      <th>data_coleta</th>\n",
       "      <th></th>\n",
       "      <th></th>\n",
       "    </tr>\n",
       "  </thead>\n",
       "  <tbody>\n",
       "    <tr>\n",
       "      <th>2019-10-29 00:00:00</th>\n",
       "      <td>22.571293</td>\n",
       "      <td>0.671696</td>\n",
       "    </tr>\n",
       "    <tr>\n",
       "      <th>2019-10-29 01:00:00</th>\n",
       "      <td>22.562517</td>\n",
       "      <td>0.669078</td>\n",
       "    </tr>\n",
       "    <tr>\n",
       "      <th>2019-10-29 02:00:00</th>\n",
       "      <td>22.542012</td>\n",
       "      <td>0.664256</td>\n",
       "    </tr>\n",
       "    <tr>\n",
       "      <th>2019-10-29 03:00:00</th>\n",
       "      <td>22.381356</td>\n",
       "      <td>0.665057</td>\n",
       "    </tr>\n",
       "    <tr>\n",
       "      <th>2019-10-29 04:00:00</th>\n",
       "      <td>22.561546</td>\n",
       "      <td>0.668495</td>\n",
       "    </tr>\n",
       "    <tr>\n",
       "      <th>2019-10-29 05:00:00</th>\n",
       "      <td>22.524773</td>\n",
       "      <td>0.650392</td>\n",
       "    </tr>\n",
       "    <tr>\n",
       "      <th>2019-10-29 06:00:00</th>\n",
       "      <td>22.617364</td>\n",
       "      <td>0.662636</td>\n",
       "    </tr>\n",
       "    <tr>\n",
       "      <th>2019-10-29 07:00:00</th>\n",
       "      <td>22.537353</td>\n",
       "      <td>0.667271</td>\n",
       "    </tr>\n",
       "    <tr>\n",
       "      <th>2019-10-29 08:00:00</th>\n",
       "      <td>22.416776</td>\n",
       "      <td>0.665051</td>\n",
       "    </tr>\n",
       "    <tr>\n",
       "      <th>2019-10-29 09:00:00</th>\n",
       "      <td>22.633261</td>\n",
       "      <td>0.653465</td>\n",
       "    </tr>\n",
       "    <tr>\n",
       "      <th>2019-10-29 10:00:00</th>\n",
       "      <td>22.503731</td>\n",
       "      <td>0.643164</td>\n",
       "    </tr>\n",
       "    <tr>\n",
       "      <th>2019-10-29 11:00:00</th>\n",
       "      <td>22.580423</td>\n",
       "      <td>0.652339</td>\n",
       "    </tr>\n",
       "    <tr>\n",
       "      <th>2019-10-29 12:00:00</th>\n",
       "      <td>22.622880</td>\n",
       "      <td>0.650126</td>\n",
       "    </tr>\n",
       "    <tr>\n",
       "      <th>2019-10-29 13:00:00</th>\n",
       "      <td>22.509262</td>\n",
       "      <td>0.665824</td>\n",
       "    </tr>\n",
       "    <tr>\n",
       "      <th>2019-10-29 14:00:00</th>\n",
       "      <td>22.454806</td>\n",
       "      <td>0.655238</td>\n",
       "    </tr>\n",
       "    <tr>\n",
       "      <th>2019-10-29 15:00:00</th>\n",
       "      <td>22.586577</td>\n",
       "      <td>0.679751</td>\n",
       "    </tr>\n",
       "    <tr>\n",
       "      <th>2019-10-29 16:00:00</th>\n",
       "      <td>22.559791</td>\n",
       "      <td>0.662305</td>\n",
       "    </tr>\n",
       "    <tr>\n",
       "      <th>2019-10-29 17:00:00</th>\n",
       "      <td>22.368491</td>\n",
       "      <td>0.666667</td>\n",
       "    </tr>\n",
       "    <tr>\n",
       "      <th>2019-10-29 18:00:00</th>\n",
       "      <td>22.489044</td>\n",
       "      <td>0.670420</td>\n",
       "    </tr>\n",
       "  </tbody>\n",
       "</table>\n",
       "</div>"
      ],
      "text/plain": [
       "                     temperatura     alarm\n",
       "data_coleta                               \n",
       "2019-10-29 00:00:00    22.571293  0.671696\n",
       "2019-10-29 01:00:00    22.562517  0.669078\n",
       "2019-10-29 02:00:00    22.542012  0.664256\n",
       "2019-10-29 03:00:00    22.381356  0.665057\n",
       "2019-10-29 04:00:00    22.561546  0.668495\n",
       "2019-10-29 05:00:00    22.524773  0.650392\n",
       "2019-10-29 06:00:00    22.617364  0.662636\n",
       "2019-10-29 07:00:00    22.537353  0.667271\n",
       "2019-10-29 08:00:00    22.416776  0.665051\n",
       "2019-10-29 09:00:00    22.633261  0.653465\n",
       "2019-10-29 10:00:00    22.503731  0.643164\n",
       "2019-10-29 11:00:00    22.580423  0.652339\n",
       "2019-10-29 12:00:00    22.622880  0.650126\n",
       "2019-10-29 13:00:00    22.509262  0.665824\n",
       "2019-10-29 14:00:00    22.454806  0.655238\n",
       "2019-10-29 15:00:00    22.586577  0.679751\n",
       "2019-10-29 16:00:00    22.559791  0.662305\n",
       "2019-10-29 17:00:00    22.368491  0.666667\n",
       "2019-10-29 18:00:00    22.489044  0.670420"
      ]
     },
     "execution_count": 165,
     "metadata": {},
     "output_type": "execute_result"
    }
   ],
   "source": [
    "df_20191029_hora"
   ]
  },
  {
   "cell_type": "code",
   "execution_count": 166,
   "metadata": {
    "scrolled": true
   },
   "outputs": [
    {
     "data": {
      "text/plain": [
       "<matplotlib.axes._subplots.AxesSubplot at 0x7fce64b62750>"
      ]
     },
     "execution_count": 166,
     "metadata": {},
     "output_type": "execute_result"
    },
    {
     "data": {
      "image/png": "[encoded data removed]",
      "text/plain": [
       "<Figure size 432x288 with 1 Axes>"
      ]
     },
     "metadata": {
      "needs_background": "light"
     },
     "output_type": "display_data"
    }
   ],
   "source": [
    "#plot media de temperatura por hora no dia 29/10\n",
    "df_20191029_hora['temperatura'].plot.bar()"
   ]
  },
  {
   "cell_type": "code",
   "execution_count": 168,
   "metadata": {},
   "outputs": [
    {
     "data": {
      "text/plain": [
       "<matplotlib.axes._subplots.AxesSubplot at 0x7fce64a08610>"
      ]
     },
     "execution_count": 168,
     "metadata": {},
     "output_type": "execute_result"
    },
    {
     "data": {
      "image/png": "[encoded data removed]",
      "text/plain": [
       "<Figure size 432x288 with 1 Axes>"
      ]
     },
     "metadata": {
      "needs_background": "light"
     },
     "output_type": "display_data"
    }
   ],
   "source": [
    "#Distribuição da media de temperatura por hora no dia 29/10\n",
    "sns.distplot(df_20191029_hora['temperatura'])"
   ]
  },
  {
   "cell_type": "code",
   "execution_count": 175,
   "metadata": {},
   "outputs": [],
   "source": [
    "#Analise da hora com maior media de temperatura no dia 29/10\n",
    "df_20191029_09h = df[(df['data_coleta'] >= '2019-10-29 09:00:00') & (df['data_coleta'] < '2019-10-29 10:00:00')]"
   ]
  },
  {
   "cell_type": "code",
   "execution_count": 176,
   "metadata": {},
   "outputs": [
    {
     "name": "stdout",
     "output_type": "stream",
     "text": [
      "<class 'pandas.core.frame.DataFrame'>\n",
      "Int64Index: 1616 entries, 32827 to 34442\n",
      "Data columns (total 3 columns):\n",
      "data_coleta    1616 non-null datetime64[ns]\n",
      "temperatura    1616 non-null float64\n",
      "alarm          1616 non-null bool\n",
      "dtypes: bool(1), datetime64[ns](1), float64(1)\n",
      "memory usage: 39.5 KB\n"
     ]
    }
   ],
   "source": [
    "df_20191029_09h.info()"
   ]
  },
  {
   "cell_type": "code",
   "execution_count": 177,
   "metadata": {
    "scrolled": true
   },
   "outputs": [
    {
     "data": {
      "text/html": [
       "<div>\n",
       "<style scoped>\n",
       "    .dataframe tbody tr th:only-of-type {\n",
       "        vertical-align: middle;\n",
       "    }\n",
       "\n",
       "    .dataframe tbody tr th {\n",
       "        vertical-align: top;\n",
       "    }\n",
       "\n",
       "    .dataframe thead th {\n",
       "        text-align: right;\n",
       "    }\n",
       "</style>\n",
       "<table border=\"1\" class=\"dataframe\">\n",
       "  <thead>\n",
       "    <tr style=\"text-align: right;\">\n",
       "      <th></th>\n",
       "      <th>data_coleta</th>\n",
       "      <th>temperatura</th>\n",
       "      <th>alarm</th>\n",
       "    </tr>\n",
       "  </thead>\n",
       "  <tbody>\n",
       "    <tr>\n",
       "      <th>32827</th>\n",
       "      <td>2019-10-29 09:00:00.359</td>\n",
       "      <td>23.844437</td>\n",
       "      <td>False</td>\n",
       "    </tr>\n",
       "    <tr>\n",
       "      <th>32828</th>\n",
       "      <td>2019-10-29 09:00:02.540</td>\n",
       "      <td>17.590522</td>\n",
       "      <td>True</td>\n",
       "    </tr>\n",
       "    <tr>\n",
       "      <th>32829</th>\n",
       "      <td>2019-10-29 09:00:04.697</td>\n",
       "      <td>28.716728</td>\n",
       "      <td>True</td>\n",
       "    </tr>\n",
       "    <tr>\n",
       "      <th>32830</th>\n",
       "      <td>2019-10-29 09:00:06.848</td>\n",
       "      <td>23.146157</td>\n",
       "      <td>False</td>\n",
       "    </tr>\n",
       "    <tr>\n",
       "      <th>32831</th>\n",
       "      <td>2019-10-29 09:00:09.100</td>\n",
       "      <td>23.125261</td>\n",
       "      <td>False</td>\n",
       "    </tr>\n",
       "    <tr>\n",
       "      <th>...</th>\n",
       "      <td>...</td>\n",
       "      <td>...</td>\n",
       "      <td>...</td>\n",
       "    </tr>\n",
       "    <tr>\n",
       "      <th>34438</th>\n",
       "      <td>2019-10-29 09:59:48.981</td>\n",
       "      <td>24.603583</td>\n",
       "      <td>False</td>\n",
       "    </tr>\n",
       "    <tr>\n",
       "      <th>34439</th>\n",
       "      <td>2019-10-29 09:59:51.748</td>\n",
       "      <td>21.059959</td>\n",
       "      <td>False</td>\n",
       "    </tr>\n",
       "    <tr>\n",
       "      <th>34440</th>\n",
       "      <td>2019-10-29 09:59:53.909</td>\n",
       "      <td>18.019971</td>\n",
       "      <td>True</td>\n",
       "    </tr>\n",
       "    <tr>\n",
       "      <th>34441</th>\n",
       "      <td>2019-10-29 09:59:56.060</td>\n",
       "      <td>18.838526</td>\n",
       "      <td>True</td>\n",
       "    </tr>\n",
       "    <tr>\n",
       "      <th>34442</th>\n",
       "      <td>2019-10-29 09:59:58.220</td>\n",
       "      <td>20.273980</td>\n",
       "      <td>False</td>\n",
       "    </tr>\n",
       "  </tbody>\n",
       "</table>\n",
       "<p>1616 rows × 3 columns</p>\n",
       "</div>"
      ],
      "text/plain": [
       "                  data_coleta  temperatura  alarm\n",
       "32827 2019-10-29 09:00:00.359    23.844437  False\n",
       "32828 2019-10-29 09:00:02.540    17.590522   True\n",
       "32829 2019-10-29 09:00:04.697    28.716728   True\n",
       "32830 2019-10-29 09:00:06.848    23.146157  False\n",
       "32831 2019-10-29 09:00:09.100    23.125261  False\n",
       "...                       ...          ...    ...\n",
       "34438 2019-10-29 09:59:48.981    24.603583  False\n",
       "34439 2019-10-29 09:59:51.748    21.059959  False\n",
       "34440 2019-10-29 09:59:53.909    18.019971   True\n",
       "34441 2019-10-29 09:59:56.060    18.838526   True\n",
       "34442 2019-10-29 09:59:58.220    20.273980  False\n",
       "\n",
       "[1616 rows x 3 columns]"
      ]
     },
     "execution_count": 177,
     "metadata": {},
     "output_type": "execute_result"
    }
   ],
   "source": [
    "df_20191029_09h"
   ]
  },
  {
   "cell_type": "code",
   "execution_count": 178,
   "metadata": {},
   "outputs": [
    {
     "data": {
      "text/plain": [
       "<matplotlib.axes._subplots.AxesSubplot at 0x7fce649fd810>"
      ]
     },
     "execution_count": 178,
     "metadata": {},
     "output_type": "execute_result"
    },
    {
     "data": {
      "image/png": "[encoded data removed]",
      "text/plain": [
       "<Figure size 432x288 with 1 Axes>"
      ]
     },
     "metadata": {
      "needs_background": "light"
     },
     "output_type": "display_data"
    }
   ],
   "source": [
    "#Contagem de alarmes\n",
    "sns.countplot(x='alarm', data=df_20191029_09h)"
   ]
  },
  {
   "cell_type": "code",
   "execution_count": 179,
   "metadata": {},
   "outputs": [
    {
     "data": {
      "text/plain": [
       "alarm\n",
       "False    22.515192\n",
       "True     22.695874\n",
       "Name: temperatura, dtype: float64"
      ]
     },
     "execution_count": 179,
     "metadata": {},
     "output_type": "execute_result"
    }
   ],
   "source": [
    "df_20191029_09h.groupby(['alarm'])['temperatura'].mean()"
   ]
  },
  {
   "cell_type": "code",
   "execution_count": 180,
   "metadata": {},
   "outputs": [],
   "source": [
    "#Analise da media de temperatura por minuto - 29/10 das 09:00 as 09:59\n",
    "media_min = df_20191029_09h.set_index('data_coleta').resample('min')['temperatura'].mean()"
   ]
  },
  {
   "cell_type": "code",
   "execution_count": 181,
   "metadata": {},
   "outputs": [
    {
     "data": {
      "text/plain": [
       "data_coleta\n",
       "2019-10-29 09:00:00    22.854292\n",
       "2019-10-29 09:01:00    21.916119\n",
       "2019-10-29 09:02:00    22.213742\n",
       "2019-10-29 09:03:00    22.915318\n",
       "2019-10-29 09:04:00    21.237829\n",
       "2019-10-29 09:05:00    22.188150\n",
       "2019-10-29 09:06:00    23.614968\n",
       "2019-10-29 09:07:00    23.070620\n",
       "2019-10-29 09:08:00    23.493829\n",
       "2019-10-29 09:09:00    22.937302\n",
       "2019-10-29 09:10:00    22.204891\n",
       "2019-10-29 09:11:00    22.158074\n",
       "2019-10-29 09:12:00    22.816639\n",
       "2019-10-29 09:13:00    22.991204\n",
       "2019-10-29 09:14:00    22.987503\n",
       "2019-10-29 09:15:00    22.513935\n",
       "2019-10-29 09:16:00    21.820252\n",
       "2019-10-29 09:17:00    23.667693\n",
       "2019-10-29 09:18:00    22.498597\n",
       "2019-10-29 09:19:00    23.481277\n",
       "2019-10-29 09:20:00    20.845398\n",
       "2019-10-29 09:21:00    22.942935\n",
       "2019-10-29 09:22:00    23.215626\n",
       "2019-10-29 09:23:00    23.252969\n",
       "2019-10-29 09:24:00    22.846685\n",
       "2019-10-29 09:25:00    23.992328\n",
       "2019-10-29 09:26:00    23.231892\n",
       "2019-10-29 09:27:00    24.034798\n",
       "2019-10-29 09:28:00    22.574144\n",
       "2019-10-29 09:29:00    23.128499\n",
       "2019-10-29 09:30:00    21.775256\n",
       "2019-10-29 09:31:00    20.836972\n",
       "2019-10-29 09:32:00    23.228246\n",
       "2019-10-29 09:33:00    21.994378\n",
       "2019-10-29 09:34:00    22.679355\n",
       "2019-10-29 09:35:00    23.176398\n",
       "2019-10-29 09:36:00    22.588838\n",
       "2019-10-29 09:37:00    23.188944\n",
       "2019-10-29 09:38:00    20.821191\n",
       "2019-10-29 09:39:00    22.793010\n",
       "2019-10-29 09:40:00    21.718938\n",
       "2019-10-29 09:41:00    21.207107\n",
       "2019-10-29 09:42:00    22.315350\n",
       "2019-10-29 09:43:00    24.223372\n",
       "2019-10-29 09:44:00    22.332160\n",
       "2019-10-29 09:45:00    21.800782\n",
       "2019-10-29 09:46:00    23.976713\n",
       "2019-10-29 09:47:00    23.060680\n",
       "2019-10-29 09:48:00    22.770825\n",
       "2019-10-29 09:49:00    23.662587\n",
       "2019-10-29 09:50:00    24.941388\n",
       "2019-10-29 09:51:00    21.075054\n",
       "2019-10-29 09:52:00    22.416458\n",
       "2019-10-29 09:53:00    22.464025\n",
       "2019-10-29 09:54:00    22.361253\n",
       "2019-10-29 09:55:00    21.343920\n",
       "2019-10-29 09:56:00    23.164448\n",
       "2019-10-29 09:57:00    22.648823\n",
       "2019-10-29 09:58:00    22.574335\n",
       "2019-10-29 09:59:00    21.601324\n",
       "Freq: T, Name: temperatura, dtype: float64"
      ]
     },
     "execution_count": 181,
     "metadata": {},
     "output_type": "execute_result"
    }
   ],
   "source": [
    "media_min"
   ]
  },
  {
   "cell_type": "code",
   "execution_count": 182,
   "metadata": {},
   "outputs": [
    {
     "data": {
      "text/plain": [
       "<matplotlib.axes._subplots.AxesSubplot at 0x7fce64964f10>"
      ]
     },
     "execution_count": 182,
     "metadata": {},
     "output_type": "execute_result"
    },
    {
     "data": {
      "image/png": "[encoded data removed]",
      "text/plain": [
       "<Figure size 432x288 with 1 Axes>"
      ]
     },
     "metadata": {
      "needs_background": "light"
     },
     "output_type": "display_data"
    }
   ],
   "source": [
    "media_min.plot.bar()"
   ]
  },
  {
   "cell_type": "code",
   "execution_count": 183,
   "metadata": {},
   "outputs": [
    {
     "data": {
      "text/plain": [
       "<matplotlib.axes._subplots.AxesSubplot at 0x7fce6493f7d0>"
      ]
     },
     "execution_count": 183,
     "metadata": {},
     "output_type": "execute_result"
    },
    {
     "data": {
      "image/png": "[encoded data removed]",
      "text/plain": [
       "<Figure size 432x288 with 1 Axes>"
      ]
     },
     "metadata": {
      "needs_background": "light"
     },
     "output_type": "display_data"
    }
   ],
   "source": [
    "#distribuição da média de temeratura por minuto\n",
    "sns.distplot(media_min)"
   ]
  },
  {
   "cell_type": "code",
   "execution_count": 251,
   "metadata": {},
   "outputs": [],
   "source": [
    "#Analise de alarmes por minuto - 29/10 das 09:00 as 09:59\n",
    "alarm_min = df_20191029_09h.set_index('data_coleta').resample('min')['alarm'].value_counts()"
   ]
  },
  {
   "cell_type": "code",
   "execution_count": 252,
   "metadata": {},
   "outputs": [],
   "source": [
    "df_alarm_min = pd.DataFrame(data = alarm_min)"
   ]
  },
  {
   "cell_type": "code",
   "execution_count": 253,
   "metadata": {},
   "outputs": [],
   "source": [
    "df_alarm_min = df_alarm_min.rename(columns={'alarm': 'count'})"
   ]
  },
  {
   "cell_type": "code",
   "execution_count": 255,
   "metadata": {},
   "outputs": [],
   "source": [
    "df_alarm_min = df_alarm_min.pivot_table(index='data_coleta', values='count', columns='alarm')"
   ]
  },
  {
   "cell_type": "code",
   "execution_count": 256,
   "metadata": {
    "scrolled": true
   },
   "outputs": [
    {
     "data": {
      "text/html": [
       "<div>\n",
       "<style scoped>\n",
       "    .dataframe tbody tr th:only-of-type {\n",
       "        vertical-align: middle;\n",
       "    }\n",
       "\n",
       "    .dataframe tbody tr th {\n",
       "        vertical-align: top;\n",
       "    }\n",
       "\n",
       "    .dataframe thead th {\n",
       "        text-align: right;\n",
       "    }\n",
       "</style>\n",
       "<table border=\"1\" class=\"dataframe\">\n",
       "  <thead>\n",
       "    <tr style=\"text-align: right;\">\n",
       "      <th>alarm</th>\n",
       "      <th>False</th>\n",
       "      <th>True</th>\n",
       "    </tr>\n",
       "    <tr>\n",
       "      <th>data_coleta</th>\n",
       "      <th></th>\n",
       "      <th></th>\n",
       "    </tr>\n",
       "  </thead>\n",
       "  <tbody>\n",
       "    <tr>\n",
       "      <th>2019-10-29 09:00:00</th>\n",
       "      <td>14</td>\n",
       "      <td>13</td>\n",
       "    </tr>\n",
       "    <tr>\n",
       "      <th>2019-10-29 09:01:00</th>\n",
       "      <td>13</td>\n",
       "      <td>15</td>\n",
       "    </tr>\n",
       "    <tr>\n",
       "      <th>2019-10-29 09:02:00</th>\n",
       "      <td>5</td>\n",
       "      <td>22</td>\n",
       "    </tr>\n",
       "    <tr>\n",
       "      <th>2019-10-29 09:03:00</th>\n",
       "      <td>6</td>\n",
       "      <td>22</td>\n",
       "    </tr>\n",
       "    <tr>\n",
       "      <th>2019-10-29 09:04:00</th>\n",
       "      <td>6</td>\n",
       "      <td>21</td>\n",
       "    </tr>\n",
       "    <tr>\n",
       "      <th>2019-10-29 09:05:00</th>\n",
       "      <td>10</td>\n",
       "      <td>18</td>\n",
       "    </tr>\n",
       "    <tr>\n",
       "      <th>2019-10-29 09:06:00</th>\n",
       "      <td>11</td>\n",
       "      <td>16</td>\n",
       "    </tr>\n",
       "    <tr>\n",
       "      <th>2019-10-29 09:07:00</th>\n",
       "      <td>8</td>\n",
       "      <td>20</td>\n",
       "    </tr>\n",
       "    <tr>\n",
       "      <th>2019-10-29 09:08:00</th>\n",
       "      <td>6</td>\n",
       "      <td>21</td>\n",
       "    </tr>\n",
       "    <tr>\n",
       "      <th>2019-10-29 09:09:00</th>\n",
       "      <td>10</td>\n",
       "      <td>17</td>\n",
       "    </tr>\n",
       "    <tr>\n",
       "      <th>2019-10-29 09:10:00</th>\n",
       "      <td>7</td>\n",
       "      <td>21</td>\n",
       "    </tr>\n",
       "    <tr>\n",
       "      <th>2019-10-29 09:11:00</th>\n",
       "      <td>8</td>\n",
       "      <td>19</td>\n",
       "    </tr>\n",
       "    <tr>\n",
       "      <th>2019-10-29 09:12:00</th>\n",
       "      <td>13</td>\n",
       "      <td>15</td>\n",
       "    </tr>\n",
       "    <tr>\n",
       "      <th>2019-10-29 09:13:00</th>\n",
       "      <td>10</td>\n",
       "      <td>17</td>\n",
       "    </tr>\n",
       "    <tr>\n",
       "      <th>2019-10-29 09:14:00</th>\n",
       "      <td>9</td>\n",
       "      <td>19</td>\n",
       "    </tr>\n",
       "    <tr>\n",
       "      <th>2019-10-29 09:15:00</th>\n",
       "      <td>11</td>\n",
       "      <td>15</td>\n",
       "    </tr>\n",
       "    <tr>\n",
       "      <th>2019-10-29 09:16:00</th>\n",
       "      <td>11</td>\n",
       "      <td>15</td>\n",
       "    </tr>\n",
       "    <tr>\n",
       "      <th>2019-10-29 09:17:00</th>\n",
       "      <td>8</td>\n",
       "      <td>18</td>\n",
       "    </tr>\n",
       "    <tr>\n",
       "      <th>2019-10-29 09:18:00</th>\n",
       "      <td>11</td>\n",
       "      <td>16</td>\n",
       "    </tr>\n",
       "    <tr>\n",
       "      <th>2019-10-29 09:19:00</th>\n",
       "      <td>8</td>\n",
       "      <td>20</td>\n",
       "    </tr>\n",
       "    <tr>\n",
       "      <th>2019-10-29 09:20:00</th>\n",
       "      <td>11</td>\n",
       "      <td>16</td>\n",
       "    </tr>\n",
       "    <tr>\n",
       "      <th>2019-10-29 09:21:00</th>\n",
       "      <td>11</td>\n",
       "      <td>17</td>\n",
       "    </tr>\n",
       "    <tr>\n",
       "      <th>2019-10-29 09:22:00</th>\n",
       "      <td>13</td>\n",
       "      <td>15</td>\n",
       "    </tr>\n",
       "    <tr>\n",
       "      <th>2019-10-29 09:23:00</th>\n",
       "      <td>10</td>\n",
       "      <td>17</td>\n",
       "    </tr>\n",
       "    <tr>\n",
       "      <th>2019-10-29 09:24:00</th>\n",
       "      <td>11</td>\n",
       "      <td>16</td>\n",
       "    </tr>\n",
       "    <tr>\n",
       "      <th>2019-10-29 09:25:00</th>\n",
       "      <td>9</td>\n",
       "      <td>19</td>\n",
       "    </tr>\n",
       "    <tr>\n",
       "      <th>2019-10-29 09:26:00</th>\n",
       "      <td>7</td>\n",
       "      <td>21</td>\n",
       "    </tr>\n",
       "    <tr>\n",
       "      <th>2019-10-29 09:27:00</th>\n",
       "      <td>11</td>\n",
       "      <td>16</td>\n",
       "    </tr>\n",
       "    <tr>\n",
       "      <th>2019-10-29 09:28:00</th>\n",
       "      <td>10</td>\n",
       "      <td>18</td>\n",
       "    </tr>\n",
       "    <tr>\n",
       "      <th>2019-10-29 09:29:00</th>\n",
       "      <td>7</td>\n",
       "      <td>20</td>\n",
       "    </tr>\n",
       "    <tr>\n",
       "      <th>2019-10-29 09:30:00</th>\n",
       "      <td>11</td>\n",
       "      <td>17</td>\n",
       "    </tr>\n",
       "    <tr>\n",
       "      <th>2019-10-29 09:31:00</th>\n",
       "      <td>7</td>\n",
       "      <td>21</td>\n",
       "    </tr>\n",
       "    <tr>\n",
       "      <th>2019-10-29 09:32:00</th>\n",
       "      <td>13</td>\n",
       "      <td>14</td>\n",
       "    </tr>\n",
       "    <tr>\n",
       "      <th>2019-10-29 09:33:00</th>\n",
       "      <td>9</td>\n",
       "      <td>19</td>\n",
       "    </tr>\n",
       "    <tr>\n",
       "      <th>2019-10-29 09:34:00</th>\n",
       "      <td>11</td>\n",
       "      <td>16</td>\n",
       "    </tr>\n",
       "    <tr>\n",
       "      <th>2019-10-29 09:35:00</th>\n",
       "      <td>9</td>\n",
       "      <td>19</td>\n",
       "    </tr>\n",
       "    <tr>\n",
       "      <th>2019-10-29 09:36:00</th>\n",
       "      <td>6</td>\n",
       "      <td>21</td>\n",
       "    </tr>\n",
       "    <tr>\n",
       "      <th>2019-10-29 09:37:00</th>\n",
       "      <td>10</td>\n",
       "      <td>16</td>\n",
       "    </tr>\n",
       "    <tr>\n",
       "      <th>2019-10-29 09:38:00</th>\n",
       "      <td>6</td>\n",
       "      <td>19</td>\n",
       "    </tr>\n",
       "    <tr>\n",
       "      <th>2019-10-29 09:39:00</th>\n",
       "      <td>13</td>\n",
       "      <td>13</td>\n",
       "    </tr>\n",
       "    <tr>\n",
       "      <th>2019-10-29 09:40:00</th>\n",
       "      <td>14</td>\n",
       "      <td>13</td>\n",
       "    </tr>\n",
       "    <tr>\n",
       "      <th>2019-10-29 09:41:00</th>\n",
       "      <td>10</td>\n",
       "      <td>17</td>\n",
       "    </tr>\n",
       "    <tr>\n",
       "      <th>2019-10-29 09:42:00</th>\n",
       "      <td>6</td>\n",
       "      <td>21</td>\n",
       "    </tr>\n",
       "    <tr>\n",
       "      <th>2019-10-29 09:43:00</th>\n",
       "      <td>8</td>\n",
       "      <td>19</td>\n",
       "    </tr>\n",
       "    <tr>\n",
       "      <th>2019-10-29 09:44:00</th>\n",
       "      <td>4</td>\n",
       "      <td>24</td>\n",
       "    </tr>\n",
       "    <tr>\n",
       "      <th>2019-10-29 09:45:00</th>\n",
       "      <td>9</td>\n",
       "      <td>17</td>\n",
       "    </tr>\n",
       "    <tr>\n",
       "      <th>2019-10-29 09:46:00</th>\n",
       "      <td>8</td>\n",
       "      <td>19</td>\n",
       "    </tr>\n",
       "    <tr>\n",
       "      <th>2019-10-29 09:47:00</th>\n",
       "      <td>16</td>\n",
       "      <td>12</td>\n",
       "    </tr>\n",
       "    <tr>\n",
       "      <th>2019-10-29 09:48:00</th>\n",
       "      <td>6</td>\n",
       "      <td>21</td>\n",
       "    </tr>\n",
       "    <tr>\n",
       "      <th>2019-10-29 09:49:00</th>\n",
       "      <td>16</td>\n",
       "      <td>11</td>\n",
       "    </tr>\n",
       "    <tr>\n",
       "      <th>2019-10-29 09:50:00</th>\n",
       "      <td>4</td>\n",
       "      <td>13</td>\n",
       "    </tr>\n",
       "    <tr>\n",
       "      <th>2019-10-29 09:51:00</th>\n",
       "      <td>7</td>\n",
       "      <td>16</td>\n",
       "    </tr>\n",
       "    <tr>\n",
       "      <th>2019-10-29 09:52:00</th>\n",
       "      <td>4</td>\n",
       "      <td>24</td>\n",
       "    </tr>\n",
       "    <tr>\n",
       "      <th>2019-10-29 09:53:00</th>\n",
       "      <td>12</td>\n",
       "      <td>15</td>\n",
       "    </tr>\n",
       "    <tr>\n",
       "      <th>2019-10-29 09:54:00</th>\n",
       "      <td>10</td>\n",
       "      <td>18</td>\n",
       "    </tr>\n",
       "    <tr>\n",
       "      <th>2019-10-29 09:55:00</th>\n",
       "      <td>6</td>\n",
       "      <td>20</td>\n",
       "    </tr>\n",
       "    <tr>\n",
       "      <th>2019-10-29 09:56:00</th>\n",
       "      <td>10</td>\n",
       "      <td>17</td>\n",
       "    </tr>\n",
       "    <tr>\n",
       "      <th>2019-10-29 09:57:00</th>\n",
       "      <td>10</td>\n",
       "      <td>17</td>\n",
       "    </tr>\n",
       "    <tr>\n",
       "      <th>2019-10-29 09:58:00</th>\n",
       "      <td>8</td>\n",
       "      <td>18</td>\n",
       "    </tr>\n",
       "    <tr>\n",
       "      <th>2019-10-29 09:59:00</th>\n",
       "      <td>12</td>\n",
       "      <td>14</td>\n",
       "    </tr>\n",
       "  </tbody>\n",
       "</table>\n",
       "</div>"
      ],
      "text/plain": [
       "alarm                False  True \n",
       "data_coleta                      \n",
       "2019-10-29 09:00:00     14     13\n",
       "2019-10-29 09:01:00     13     15\n",
       "2019-10-29 09:02:00      5     22\n",
       "2019-10-29 09:03:00      6     22\n",
       "2019-10-29 09:04:00      6     21\n",
       "2019-10-29 09:05:00     10     18\n",
       "2019-10-29 09:06:00     11     16\n",
       "2019-10-29 09:07:00      8     20\n",
       "2019-10-29 09:08:00      6     21\n",
       "2019-10-29 09:09:00     10     17\n",
       "2019-10-29 09:10:00      7     21\n",
       "2019-10-29 09:11:00      8     19\n",
       "2019-10-29 09:12:00     13     15\n",
       "2019-10-29 09:13:00     10     17\n",
       "2019-10-29 09:14:00      9     19\n",
       "2019-10-29 09:15:00     11     15\n",
       "2019-10-29 09:16:00     11     15\n",
       "2019-10-29 09:17:00      8     18\n",
       "2019-10-29 09:18:00     11     16\n",
       "2019-10-29 09:19:00      8     20\n",
       "2019-10-29 09:20:00     11     16\n",
       "2019-10-29 09:21:00     11     17\n",
       "2019-10-29 09:22:00     13     15\n",
       "2019-10-29 09:23:00     10     17\n",
       "2019-10-29 09:24:00     11     16\n",
       "2019-10-29 09:25:00      9     19\n",
       "2019-10-29 09:26:00      7     21\n",
       "2019-10-29 09:27:00     11     16\n",
       "2019-10-29 09:28:00     10     18\n",
       "2019-10-29 09:29:00      7     20\n",
       "2019-10-29 09:30:00     11     17\n",
       "2019-10-29 09:31:00      7     21\n",
       "2019-10-29 09:32:00     13     14\n",
       "2019-10-29 09:33:00      9     19\n",
       "2019-10-29 09:34:00     11     16\n",
       "2019-10-29 09:35:00      9     19\n",
       "2019-10-29 09:36:00      6     21\n",
       "2019-10-29 09:37:00     10     16\n",
       "2019-10-29 09:38:00      6     19\n",
       "2019-10-29 09:39:00     13     13\n",
       "2019-10-29 09:40:00     14     13\n",
       "2019-10-29 09:41:00     10     17\n",
       "2019-10-29 09:42:00      6     21\n",
       "2019-10-29 09:43:00      8     19\n",
       "2019-10-29 09:44:00      4     24\n",
       "2019-10-29 09:45:00      9     17\n",
       "2019-10-29 09:46:00      8     19\n",
       "2019-10-29 09:47:00     16     12\n",
       "2019-10-29 09:48:00      6     21\n",
       "2019-10-29 09:49:00     16     11\n",
       "2019-10-29 09:50:00      4     13\n",
       "2019-10-29 09:51:00      7     16\n",
       "2019-10-29 09:52:00      4     24\n",
       "2019-10-29 09:53:00     12     15\n",
       "2019-10-29 09:54:00     10     18\n",
       "2019-10-29 09:55:00      6     20\n",
       "2019-10-29 09:56:00     10     17\n",
       "2019-10-29 09:57:00     10     17\n",
       "2019-10-29 09:58:00      8     18\n",
       "2019-10-29 09:59:00     12     14"
      ]
     },
     "execution_count": 256,
     "metadata": {},
     "output_type": "execute_result"
    }
   ],
   "source": [
    "df_alarm_min"
   ]
  },
  {
   "cell_type": "code",
   "execution_count": null,
   "metadata": {},
   "outputs": [],
   "source": [
    "#Analise de valores dia 29/10"
   ]
  },
  {
   "cell_type": "code",
   "execution_count": 291,
   "metadata": {},
   "outputs": [
    {
     "data": {
      "text/html": [
       "<div>\n",
       "<style scoped>\n",
       "    .dataframe tbody tr th:only-of-type {\n",
       "        vertical-align: middle;\n",
       "    }\n",
       "\n",
       "    .dataframe tbody tr th {\n",
       "        vertical-align: top;\n",
       "    }\n",
       "\n",
       "    .dataframe thead th {\n",
       "        text-align: right;\n",
       "    }\n",
       "</style>\n",
       "<table border=\"1\" class=\"dataframe\">\n",
       "  <thead>\n",
       "    <tr style=\"text-align: right;\">\n",
       "      <th></th>\n",
       "      <th>data_coleta</th>\n",
       "      <th>temperatura</th>\n",
       "      <th>alarm</th>\n",
       "    </tr>\n",
       "  </thead>\n",
       "  <tbody>\n",
       "    <tr>\n",
       "      <th>32827</th>\n",
       "      <td>2019-10-29 09:00:00.359</td>\n",
       "      <td>23.844437</td>\n",
       "      <td>False</td>\n",
       "    </tr>\n",
       "    <tr>\n",
       "      <th>32828</th>\n",
       "      <td>2019-10-29 09:00:02.540</td>\n",
       "      <td>17.590522</td>\n",
       "      <td>True</td>\n",
       "    </tr>\n",
       "    <tr>\n",
       "      <th>32829</th>\n",
       "      <td>2019-10-29 09:00:04.697</td>\n",
       "      <td>28.716728</td>\n",
       "      <td>True</td>\n",
       "    </tr>\n",
       "    <tr>\n",
       "      <th>32830</th>\n",
       "      <td>2019-10-29 09:00:06.848</td>\n",
       "      <td>23.146157</td>\n",
       "      <td>False</td>\n",
       "    </tr>\n",
       "    <tr>\n",
       "      <th>32831</th>\n",
       "      <td>2019-10-29 09:00:09.100</td>\n",
       "      <td>23.125261</td>\n",
       "      <td>False</td>\n",
       "    </tr>\n",
       "  </tbody>\n",
       "</table>\n",
       "</div>"
      ],
      "text/plain": [
       "                  data_coleta  temperatura  alarm\n",
       "32827 2019-10-29 09:00:00.359    23.844437  False\n",
       "32828 2019-10-29 09:00:02.540    17.590522   True\n",
       "32829 2019-10-29 09:00:04.697    28.716728   True\n",
       "32830 2019-10-29 09:00:06.848    23.146157  False\n",
       "32831 2019-10-29 09:00:09.100    23.125261  False"
      ]
     },
     "execution_count": 291,
     "metadata": {},
     "output_type": "execute_result"
    }
   ],
   "source": [
    "df_20191029_09h.head()"
   ]
  },
  {
   "cell_type": "code",
   "execution_count": 294,
   "metadata": {},
   "outputs": [
    {
     "data": {
      "text/plain": [
       "data_coleta    2019-10-29 09:24:57.902000\n",
       "temperatura                       29.9762\n",
       "alarm                                True\n",
       "Name: 33508, dtype: object"
      ]
     },
     "execution_count": 294,
     "metadata": {},
     "output_type": "execute_result"
    }
   ],
   "source": [
    "#Horario que registrou a maior temperatura\n",
    "df_20191029_09h.loc[df_20191029_09h['temperatura'].idxmax()]"
   ]
  },
  {
   "cell_type": "code",
   "execution_count": 295,
   "metadata": {},
   "outputs": [
    {
     "data": {
      "text/plain": [
       "data_coleta    2019-10-29 09:39:43.728000\n",
       "temperatura                       15.0024\n",
       "alarm                                True\n",
       "Name: 33909, dtype: object"
      ]
     },
     "execution_count": 295,
     "metadata": {},
     "output_type": "execute_result"
    }
   ],
   "source": [
    "#Horario  que registrou a menor temperatura\n",
    "df_20191029_09h.loc[df_20191029_09h['temperatura'].idxmin()]"
   ]
  },
  {
   "cell_type": "code",
   "execution_count": 296,
   "metadata": {},
   "outputs": [
    {
     "data": {
      "text/html": [
       "<div>\n",
       "<style scoped>\n",
       "    .dataframe tbody tr th:only-of-type {\n",
       "        vertical-align: middle;\n",
       "    }\n",
       "\n",
       "    .dataframe tbody tr th {\n",
       "        vertical-align: top;\n",
       "    }\n",
       "\n",
       "    .dataframe thead th {\n",
       "        text-align: right;\n",
       "    }\n",
       "</style>\n",
       "<table border=\"1\" class=\"dataframe\">\n",
       "  <thead>\n",
       "    <tr style=\"text-align: right;\">\n",
       "      <th></th>\n",
       "      <th>data_coleta</th>\n",
       "      <th>temperatura</th>\n",
       "      <th>alarm</th>\n",
       "    </tr>\n",
       "  </thead>\n",
       "  <tbody>\n",
       "    <tr>\n",
       "      <th>33508</th>\n",
       "      <td>2019-10-29 09:24:57.902</td>\n",
       "      <td>29.976194</td>\n",
       "      <td>True</td>\n",
       "    </tr>\n",
       "    <tr>\n",
       "      <th>32882</th>\n",
       "      <td>2019-10-29 09:02:01.908</td>\n",
       "      <td>29.967480</td>\n",
       "      <td>True</td>\n",
       "    </tr>\n",
       "    <tr>\n",
       "      <th>33182</th>\n",
       "      <td>2019-10-29 09:12:56.800</td>\n",
       "      <td>29.967286</td>\n",
       "      <td>True</td>\n",
       "    </tr>\n",
       "    <tr>\n",
       "      <th>34103</th>\n",
       "      <td>2019-10-29 09:46:53.903</td>\n",
       "      <td>29.958952</td>\n",
       "      <td>True</td>\n",
       "    </tr>\n",
       "    <tr>\n",
       "      <th>33567</th>\n",
       "      <td>2019-10-29 09:27:06.372</td>\n",
       "      <td>29.953793</td>\n",
       "      <td>True</td>\n",
       "    </tr>\n",
       "  </tbody>\n",
       "</table>\n",
       "</div>"
      ],
      "text/plain": [
       "                  data_coleta  temperatura  alarm\n",
       "33508 2019-10-29 09:24:57.902    29.976194   True\n",
       "32882 2019-10-29 09:02:01.908    29.967480   True\n",
       "33182 2019-10-29 09:12:56.800    29.967286   True\n",
       "34103 2019-10-29 09:46:53.903    29.958952   True\n",
       "33567 2019-10-29 09:27:06.372    29.953793   True"
      ]
     },
     "execution_count": 296,
     "metadata": {},
     "output_type": "execute_result"
    }
   ],
   "source": [
    "#Horarios com maiores temperaturas\n",
    "df_20191029_09h.sort_values('temperatura', ascending=False)[:5]"
   ]
  },
  {
   "cell_type": "code",
   "execution_count": 297,
   "metadata": {},
   "outputs": [
    {
     "data": {
      "text/html": [
       "<div>\n",
       "<style scoped>\n",
       "    .dataframe tbody tr th:only-of-type {\n",
       "        vertical-align: middle;\n",
       "    }\n",
       "\n",
       "    .dataframe tbody tr th {\n",
       "        vertical-align: top;\n",
       "    }\n",
       "\n",
       "    .dataframe thead th {\n",
       "        text-align: right;\n",
       "    }\n",
       "</style>\n",
       "<table border=\"1\" class=\"dataframe\">\n",
       "  <thead>\n",
       "    <tr style=\"text-align: right;\">\n",
       "      <th></th>\n",
       "      <th>data_coleta</th>\n",
       "      <th>temperatura</th>\n",
       "      <th>alarm</th>\n",
       "    </tr>\n",
       "  </thead>\n",
       "  <tbody>\n",
       "    <tr>\n",
       "      <th>33909</th>\n",
       "      <td>2019-10-29 09:39:43.728</td>\n",
       "      <td>15.002411</td>\n",
       "      <td>True</td>\n",
       "    </tr>\n",
       "    <tr>\n",
       "      <th>33244</th>\n",
       "      <td>2019-10-29 09:15:13.747</td>\n",
       "      <td>15.006389</td>\n",
       "      <td>True</td>\n",
       "    </tr>\n",
       "    <tr>\n",
       "      <th>34141</th>\n",
       "      <td>2019-10-29 09:48:16.543</td>\n",
       "      <td>15.006523</td>\n",
       "      <td>True</td>\n",
       "    </tr>\n",
       "    <tr>\n",
       "      <th>33415</th>\n",
       "      <td>2019-10-29 09:21:34.960</td>\n",
       "      <td>15.019977</td>\n",
       "      <td>True</td>\n",
       "    </tr>\n",
       "    <tr>\n",
       "      <th>32936</th>\n",
       "      <td>2019-10-29 09:03:59.944</td>\n",
       "      <td>15.040491</td>\n",
       "      <td>True</td>\n",
       "    </tr>\n",
       "  </tbody>\n",
       "</table>\n",
       "</div>"
      ],
      "text/plain": [
       "                  data_coleta  temperatura  alarm\n",
       "33909 2019-10-29 09:39:43.728    15.002411   True\n",
       "33244 2019-10-29 09:15:13.747    15.006389   True\n",
       "34141 2019-10-29 09:48:16.543    15.006523   True\n",
       "33415 2019-10-29 09:21:34.960    15.019977   True\n",
       "32936 2019-10-29 09:03:59.944    15.040491   True"
      ]
     },
     "execution_count": 297,
     "metadata": {},
     "output_type": "execute_result"
    }
   ],
   "source": [
    "#Horarios com maiores temperaturas\n",
    "df_20191029_09h.sort_values('temperatura')[:5]"
   ]
  },
  {
   "cell_type": "code",
   "execution_count": null,
   "metadata": {},
   "outputs": [],
   "source": []
  }
 ],
 "metadata": {
  "kernelspec": {
   "display_name": "Python 3",
   "language": "python",
   "name": "python3"
  },
  "language_info": {
   "codemirror_mode": {
    "name": "ipython",
    "version": 3
   },
   "file_extension": ".py",
   "mimetype": "text/x-python",
   "name": "python",
   "nbconvert_exporter": "python",
   "pygments_lexer": "ipython3",
   "version": "3.7.4"
  }
 },
 "nbformat": 4,
 "nbformat_minor": 2
}
